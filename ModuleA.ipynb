{
  "nbformat": 4,
  "nbformat_minor": 0,
  "metadata": {
    "colab": {
      "name": "ModuleA.ipynb",
      "provenance": [],
      "collapsed_sections": [],
      "authorship_tag": "ABX9TyOYkRjqGpcrT4SV0icIC2RA",
      "include_colab_link": true
    },
    "kernelspec": {
      "name": "python3",
      "display_name": "Python 3"
    },
    "language_info": {
      "name": "python"
    }
  },
  "cells": [
    {
      "cell_type": "markdown",
      "metadata": {
        "id": "view-in-github",
        "colab_type": "text"
      },
      "source": [
        "<a href=\"https://colab.research.google.com/github/Mjbloomf/MAT-421/blob/main/ModuleA.ipynb\" target=\"_parent\"><img src=\"https://colab.research.google.com/assets/colab-badge.svg\" alt=\"Open In Colab\"/></a>"
      ]
    },
    {
      "cell_type": "markdown",
      "source": [
        "**Chapter 9- Representation of Numbers**\n",
        "\n",
        "*9.1 Base-N and Binary*\n",
        "\n",
        "Base2/binary numbers are very important for computers with the only digits being 0 and 1, as well as each digit being the coefficient of a power of 2.\n",
        "\n",
        "We will begin by coverting a number (base 10) to binary using code.\n",
        "\n",
        "1. 45 (base 10)\n",
        "\n"
      ],
      "metadata": {
        "id": "mOm5nqfkRPH2"
      }
    },
    {
      "cell_type": "code",
      "source": [
        "bin(45) #conerting 45 to binary"
      ],
      "metadata": {
        "colab": {
          "base_uri": "https://localhost:8080/",
          "height": 38
        },
        "id": "jWZB_E3XX1Kl",
        "outputId": "7ad72f1a-cd26-4a72-f6dc-971c953ee2aa"
      },
      "execution_count": null,
      "outputs": [
        {
          "output_type": "execute_result",
          "data": {
            "application/vnd.google.colaboratory.intrinsic+json": {
              "type": "string"
            },
            "text/plain": [
              "'101101'"
            ]
          },
          "metadata": {},
          "execution_count": 6
        }
      ]
    },
    {
      "cell_type": "markdown",
      "source": [
        "\n",
        "2.   32 (base 10)\n",
        "\n"
      ],
      "metadata": {
        "id": "AFeydVjmYEwS"
      }
    },
    {
      "cell_type": "code",
      "source": [
        "bin(32) #converting 32 to binary"
      ],
      "metadata": {
        "colab": {
          "base_uri": "https://localhost:8080/",
          "height": 38
        },
        "id": "34vbSFAWYnjc",
        "outputId": "face1a12-f21a-4884-cb81-f4c9ec97108c"
      },
      "execution_count": null,
      "outputs": [
        {
          "output_type": "execute_result",
          "data": {
            "application/vnd.google.colaboratory.intrinsic+json": {
              "type": "string"
            },
            "text/plain": [
              "'100000'"
            ]
          },
          "metadata": {},
          "execution_count": 16
        }
      ]
    },
    {
      "cell_type": "markdown",
      "source": [
        "Now, we will add and multiply binary numbers using code. \n",
        "\n",
        "\n",
        "\n",
        "3. Convert 10 and 12 to binary, then add and multiply them.\n",
        "\n",
        "Addition:\n",
        "\n"
      ],
      "metadata": {
        "id": "2hqWyxLocIZo"
      }
    },
    {
      "cell_type": "code",
      "source": [
        "bin(10) #converting 10 to binary\n",
        "bin(12) #coverting 12 to binary\n",
        "x = 0b1010 #initializing x as binary of 10\n",
        "y = 0b1100 #initializing y as binary of 12\n",
        "z = x + y #storing value of \"x + y\" in z\n",
        "print(f\"{z:b}\") #printing result of z as binary"
      ],
      "metadata": {
        "colab": {
          "base_uri": "https://localhost:8080/"
        },
        "id": "xihGJkHLZaek",
        "outputId": "5410fecc-0beb-4b04-a9fe-bb0514d62c9d"
      },
      "execution_count": null,
      "outputs": [
        {
          "output_type": "stream",
          "name": "stdout",
          "text": [
            "10110\n"
          ]
        }
      ]
    },
    {
      "cell_type": "markdown",
      "source": [
        "Muliplication:"
      ],
      "metadata": {
        "id": "Cu7cSdq7dl7M"
      }
    },
    {
      "cell_type": "code",
      "source": [
        "x = 0b1010 #initializing x as binary of 10\n",
        "y = 0b1100 #initializing y as binary of 12\n",
        "z = x * y #storing value of \"x * y\" in z\n",
        "print(f\"{z:b}\") #printing result of z as binary"
      ],
      "metadata": {
        "colab": {
          "base_uri": "https://localhost:8080/"
        },
        "id": "PU-lJ7VLd0-j",
        "outputId": "300dd2e9-4dd0-47bc-e41a-e4b8f5669914"
      },
      "execution_count": null,
      "outputs": [
        {
          "output_type": "stream",
          "name": "stdout",
          "text": [
            "1111000\n"
          ]
        }
      ]
    },
    {
      "cell_type": "markdown",
      "source": [
        "*9.2 Floating Point Numbers*\n",
        "\n",
        "Floating point numbers allocate bits (binary numbers) into three parts : sign indicator, exponent and fraction. 1 bit to sign indicator, 11 bits to exponent and 52 bits to fraction. Below is the code for information on float."
      ],
      "metadata": {
        "id": "j2iNPyEuirk3"
      }
    },
    {
      "cell_type": "code",
      "source": [
        "import sys\n",
        "sys.float_info"
      ],
      "metadata": {
        "colab": {
          "base_uri": "https://localhost:8080/"
        },
        "id": "02cR1csVlf3u",
        "outputId": "3155d4fe-5f15-4376-f9c4-6759c7fcef30"
      },
      "execution_count": null,
      "outputs": [
        {
          "output_type": "execute_result",
          "data": {
            "text/plain": [
              "sys.float_info(max=1.7976931348623157e+308, max_exp=1024, max_10_exp=308, min=2.2250738585072014e-308, min_exp=-1021, min_10_exp=-307, dig=15, mant_dig=53, epsilon=2.220446049250313e-16, radix=2, rounds=1)"
            ]
          },
          "metadata": {},
          "execution_count": 25
        }
      ]
    },
    {
      "cell_type": "markdown",
      "source": [
        "\n",
        "1.   Using code, give an example of a floating \n",
        "point number that will result in an overflow and then an example to represent an underflow.\n",
        "\n",
        "Overflow:"
      ],
      "metadata": {
        "id": "Ito30GNRqP5o"
      }
    },
    {
      "cell_type": "code",
      "source": [
        "1.99e308 #print number"
      ],
      "metadata": {
        "colab": {
          "base_uri": "https://localhost:8080/"
        },
        "id": "-TKroYNgq7vI",
        "outputId": "16b9acef-fb8e-4409-beec-56f6394e2794"
      },
      "execution_count": null,
      "outputs": [
        {
          "output_type": "execute_result",
          "data": {
            "text/plain": [
              "inf"
            ]
          },
          "metadata": {},
          "execution_count": 28
        }
      ]
    },
    {
      "cell_type": "markdown",
      "source": [
        "Underflow:"
      ],
      "metadata": {
        "id": "zxp5Tx2lrOwF"
      }
    },
    {
      "cell_type": "code",
      "source": [
        "2 ** (-1076) #print number"
      ],
      "metadata": {
        "colab": {
          "base_uri": "https://localhost:8080/"
        },
        "id": "-3rS5gOssPzk",
        "outputId": "c0e86069-efaa-4259-d9e6-3fdb58bffb6b"
      },
      "execution_count": null,
      "outputs": [
        {
          "output_type": "execute_result",
          "data": {
            "text/plain": [
              "0.0"
            ]
          },
          "metadata": {},
          "execution_count": 29
        }
      ]
    },
    {
      "cell_type": "markdown",
      "source": [
        "\n",
        "2. Using the space function, determine the gap at 1e7 and verify that adding a number that is less than half the gap results in the same number. "
      ],
      "metadata": {
        "id": "CkJ8l8bVuHiY"
      }
    },
    {
      "cell_type": "code",
      "source": [
        "import numpy as np #calling space funtion in numpy\n",
        "np.spacing(1e7) #gap at 1e7"
      ],
      "metadata": {
        "colab": {
          "base_uri": "https://localhost:8080/"
        },
        "id": "qv2JMBmMHaQz",
        "outputId": "2426b44b-3c5a-45ab-a7ff-6b5a5aea9ed3"
      },
      "execution_count": null,
      "outputs": [
        {
          "output_type": "execute_result",
          "data": {
            "text/plain": [
              "1.862645149230957e-09"
            ]
          },
          "metadata": {},
          "execution_count": 2
        }
      ]
    },
    {
      "cell_type": "code",
      "source": [
        "1e7 == (1e7 + np.spacing(1e7)/3) #veryfing that adding to 1e7 is less than 1/2 the gap at 1e7 is same number"
      ],
      "metadata": {
        "colab": {
          "base_uri": "https://localhost:8080/"
        },
        "id": "kqdkbd1XIMcH",
        "outputId": "b5e50b61-ebcd-4a8f-9e30-edf03ad3bca4"
      },
      "execution_count": null,
      "outputs": [
        {
          "output_type": "execute_result",
          "data": {
            "text/plain": [
              "True"
            ]
          },
          "metadata": {},
          "execution_count": 6
        }
      ]
    },
    {
      "cell_type": "markdown",
      "source": [
        "*9.3 Round-off Errors*\n",
        "\n",
        "the round-off error is the difference between an approximation of a number used in computations and the true value. This occurs because a floating number can not be storef with perfect precision. \n",
        "\n",
        "1.   Give an example of a round-off error and the calculation in python.\n",
        "\n",
        "\n"
      ],
      "metadata": {
        "id": "eWsbVikDJ6MZ"
      }
    },
    {
      "cell_type": "code",
      "source": [
        "3.5 - 3.457 == 0.043 #round-off"
      ],
      "metadata": {
        "colab": {
          "base_uri": "https://localhost:8080/"
        },
        "id": "R7FGD-8rLmmI",
        "outputId": "2ef58fb5-dfaf-41ed-d74e-0b44562776ce"
      },
      "execution_count": null,
      "outputs": [
        {
          "output_type": "execute_result",
          "data": {
            "text/plain": [
              "False"
            ]
          },
          "metadata": {},
          "execution_count": 4
        }
      ]
    },
    {
      "cell_type": "code",
      "source": [
        "3.5 - 3.457 #python calculation"
      ],
      "metadata": {
        "colab": {
          "base_uri": "https://localhost:8080/"
        },
        "id": "ZONQq4fWL3hC",
        "outputId": "f9879b88-ec40-4e69-c043-bd4b83cd0602"
      },
      "execution_count": null,
      "outputs": [
        {
          "output_type": "execute_result",
          "data": {
            "text/plain": [
              "0.04300000000000015"
            ]
          },
          "metadata": {},
          "execution_count": 5
        }
      ]
    },
    {
      "cell_type": "markdown",
      "source": [
        "\n",
        "2.   Using the round function on your previous equation, verify that it is a true statement.\n",
        "\n"
      ],
      "metadata": {
        "id": "BAC1TpRMNNMy"
      }
    },
    {
      "cell_type": "code",
      "source": [
        "round(3.5-3.457, 7) == round(0.043, 7) #round funtion to make previous equation true"
      ],
      "metadata": {
        "colab": {
          "base_uri": "https://localhost:8080/"
        },
        "id": "6cvtlu5PNvNb",
        "outputId": "d9456d98-5be5-44ca-ce67-fe284b20f127"
      },
      "execution_count": null,
      "outputs": [
        {
          "output_type": "execute_result",
          "data": {
            "text/plain": [
              "True"
            ]
          },
          "metadata": {},
          "execution_count": 9
        }
      ]
    },
    {
      "cell_type": "markdown",
      "source": [
        "\n",
        "3. Take the equation \"4 + 2/9 - 2/9\" and use code to run the equation once. Then again using code, create an iteration that adds 2/9 and subtracts 2/9 the same number of times. For this example, it will execute 1,000 and 10,000 times to show the errors accumulating. \n",
        "\n"
      ],
      "metadata": {
        "id": "alrDiFVgg6FF"
      }
    },
    {
      "cell_type": "code",
      "source": [
        "4 + 2/9 - 2/9"
      ],
      "metadata": {
        "colab": {
          "base_uri": "https://localhost:8080/"
        },
        "id": "aF8AJsFxRT6L",
        "outputId": "b1e6312a-0445-4260-cde2-52e3877fd1bf"
      },
      "execution_count": 27,
      "outputs": [
        {
          "output_type": "execute_result",
          "data": {
            "text/plain": [
              "4.0"
            ]
          },
          "metadata": {},
          "execution_count": 27
        }
      ]
    },
    {
      "cell_type": "code",
      "source": [
        "def add_and_subract(iterations): #defining function\n",
        "  result = 4\n",
        "\n",
        "  for i in range(iterations): #loop for adding 2/9 the number of iterations\n",
        "    result += (2/9)\n",
        "\n",
        "  for i in range(iterations): #loop for subtracting 2/9 the number of iterations\n",
        "    result -= (2/9)\n",
        "  return result"
      ],
      "metadata": {
        "id": "zNl70DeiRdyK"
      },
      "execution_count": 34,
      "outputs": []
    },
    {
      "cell_type": "code",
      "source": [
        "add_and_subract(1000) #run function 1000 times"
      ],
      "metadata": {
        "colab": {
          "base_uri": "https://localhost:8080/"
        },
        "id": "dg5nUu8Kgn6R",
        "outputId": "d8567084-7431-4afd-df35-bdd4f1e317e2"
      },
      "execution_count": 30,
      "outputs": [
        {
          "output_type": "execute_result",
          "data": {
            "text/plain": [
              "4.000000000000005"
            ]
          },
          "metadata": {},
          "execution_count": 30
        }
      ]
    },
    {
      "cell_type": "code",
      "source": [
        "add_and_subract(10000) #run function 10000 times"
      ],
      "metadata": {
        "colab": {
          "base_uri": "https://localhost:8080/"
        },
        "id": "zHrgsCBogu2k",
        "outputId": "3ab896e0-b12c-4027-e60b-bd57b8cfe2de"
      },
      "execution_count": 32,
      "outputs": [
        {
          "output_type": "execute_result",
          "data": {
            "text/plain": [
              "4.000000000000197"
            ]
          },
          "metadata": {},
          "execution_count": 32
        }
      ]
    }
  ]
}