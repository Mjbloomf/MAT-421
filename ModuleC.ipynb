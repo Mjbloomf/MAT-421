{
  "cells": [
    {
      "cell_type": "markdown",
      "metadata": {
        "id": "view-in-github",
        "colab_type": "text"
      },
      "source": [
        "<a href=\"https://colab.research.google.com/github/Mjbloomf/MAT-421/blob/Main/ModuleC.ipynb\" target=\"_parent\"><img src=\"https://colab.research.google.com/assets/colab-badge.svg\" alt=\"Open In Colab\"/></a>"
      ]
    },
    {
      "cell_type": "markdown",
      "metadata": {
        "id": "K1LgSsvg6TmU"
      },
      "source": [
        "**Chapter 19 Homework**\n",
        "\n",
        "*Sections: 19.1, 19.2, 19.3, 19.4, 19.5*\n",
        "\n",
        "19.1- Root Finding Problem Statement\n",
        "\n",
        "The root or zero of a funtion, f(x), is an xr such that f(xr)= 0. \n",
        "\n",
        "1. Using fsolve funtion from spicy, compute the root of f(x) = cos(x) - 2x near -3. Verify that the solution is a root."
      ]
    },
    {
      "cell_type": "code",
      "execution_count": null,
      "metadata": {
        "colab": {
          "background_save": true,
          "base_uri": "https://localhost:8080/",
          "height": 135
        },
        "id": "hrEmGn7e8euf",
        "outputId": "b99baf8f-bf15-4440-a8e1-4ecdd9b40f53"
      },
      "outputs": [
        {
          "name": "stdout",
          "output_type": "stream",
          "text": [
            "r = [-1.78593599e-08]\n",
            "result = [0.]\n"
          ]
        }
      ],
      "source": [
        "import numpy as np\n",
        "from scipy import optimize \n",
        "\n",
        "f = lambda x: np.cos(x) - x\n",
        "r = optimize.fsolve(f, -3)\n",
        "print(\"r =\", r)\n",
        "\n",
        "result = f(r)\n",
        "print(\"result =\", result)"
      ]
    },
    {
      "cell_type": "markdown",
      "source": [
        "19.2 and 19.3- Tolerance and Bisection Method\n",
        "\n",
        "Tolerance is the level error that is acceptable for an engineering application. The bisection method uses Intermediate Value Theorem iteratively to find roots.\n",
        "\n",
        "In the problem below, we will show the bisection method to approximate the tolerance.\n",
        "\n",
        "2. Program a function that approximates a root r of f, bounded by a and b to within |f(a+b/2)| < tol. Then consider the root of x^2 - 6. Starting at a = 0 and b = 6, use the created function to approximate the sqrt(4) to a tolerance of |f(x)| < 0.1 and |f(x)| < 0.01. Verify the results are close to a root by plugging the root back into the equation."
      ],
      "metadata": {
        "id": "F8wnTTg-_gC3"
      }
    },
    {
      "cell_type": "code",
      "source": [
        "import numpy as np\n",
        "\n",
        "def my_bisection(f, a, b, tol):\n",
        "  if np.sign(f(a)) == np.sign(f(b)):\n",
        "    raise Exception(\n",
        "        \"The scalars a and b do not bound a root\")\n",
        "    \n",
        "  m = (a + b)/2\n",
        "\n",
        "  if np.abs(f(m)) < tol:\n",
        "    return m\n",
        "  elif np.sign(f(a)) == np.sign(f(m)):\n",
        "    return my_bisection(f, m, b, tol)\n",
        "  elif np.sign(f(b)) == np.sign(f(m)):\n",
        "    return my_bisection(f, a, m, tol)\n",
        "    \n",
        "    "
      ],
      "metadata": {
        "id": "irosWSmiBu2P"
      },
      "execution_count": null,
      "outputs": []
    },
    {
      "cell_type": "code",
      "source": [
        "f = lambda x : x**2 - 6\n",
        "r1 = my_bisection(f, 0, 6, 0.1)\n",
        "print(\"r1 =\", r1)\n",
        "r01 = my_bisection(f, 0, 6, 0.01)\n",
        "print(\"r01 =\", r01)\n",
        "\n",
        "print(\"f(r1) =\", f(r1))\n",
        "print(\"f(r2) =\", f(r01))\n"
      ],
      "metadata": {
        "colab": {
          "base_uri": "https://localhost:8080/"
        },
        "id": "Or6ysSjeE5le",
        "outputId": "bc3f47d0-6cb7-4171-b48a-c6d5769c44a5"
      },
      "execution_count": null,
      "outputs": [
        {
          "output_type": "stream",
          "name": "stdout",
          "text": [
            "r1 = 2.4375\n",
            "r01 = 2.44921875\n",
            "f(r1) = -0.05859375\n",
            "f(r2) = -0.0013275146484375\n"
          ]
        }
      ]
    },
    {
      "cell_type": "markdown",
      "source": [
        "19.4- Newton-Raphson Method\n",
        "\n",
        "The Newton-Raphson Method of finding roots iterates Newton steps x0 until the error is less than the tolerance. \n",
        "\n",
        "3. Write a function where the output is the output is an estimation of the root f, f is a function object f(x), df is a function object to f'(x), x0 is an initial guess, and tol is the error tolerance. The error measurement should be |f(x)|. Then use it to compute sqrt(6) to within tolerance of 1e-6 at x0 = 2.5."
      ],
      "metadata": {
        "id": "YCrrVxXPKFuk"
      }
    },
    {
      "cell_type": "code",
      "source": [
        "f_prime = lambda x: 2*x\n",
        "def my_newton(f, df, x0, tol):\n",
        "  if abs(f(x0)) < tol:\n",
        "    return x0\n",
        "  else:\n",
        "    return my_newton(f, df, x0 - f(x0)/df(x0), tol)\n",
        "    "
      ],
      "metadata": {
        "id": "sSsoWcQ4UhvR"
      },
      "execution_count": null,
      "outputs": []
    },
    {
      "cell_type": "code",
      "source": [
        "estimate = my_newton(f, f_prime, 2.5, 1e-6)\n",
        "print(\"estimate =\", estimate)\n",
        "print(\"sqrt(6)\", np.sqrt(6))"
      ],
      "metadata": {
        "colab": {
          "base_uri": "https://localhost:8080/"
        },
        "id": "lg4JaDYwWBOY",
        "outputId": "58f573d5-55b9-4358-ee22-0de185812e4a"
      },
      "execution_count": null,
      "outputs": [
        {
          "output_type": "stream",
          "name": "stdout",
          "text": [
            "estimate = 2.4494897959183675\n",
            "sqrt(6) 2.449489742783178\n"
          ]
        }
      ]
    },
    {
      "cell_type": "markdown",
      "source": [
        "19.5- Root Finding in Python\n",
        "\n",
        "4. Compute the root of x^2 - 11x + 30 using fsolve."
      ],
      "metadata": {
        "id": "YbHfhwGBXJcI"
      }
    },
    {
      "cell_type": "code",
      "source": [
        "from scipy.optimize import fsolve\n",
        "f = lambda x : x**2-11*x+30\n",
        "fsolve(f, [4,7])"
      ],
      "metadata": {
        "colab": {
          "base_uri": "https://localhost:8080/"
        },
        "id": "c77y5VZbXjpy",
        "outputId": "90485991-2bc0-48fe-82b8-4772978ffc10"
      },
      "execution_count": null,
      "outputs": [
        {
          "output_type": "execute_result",
          "data": {
            "text/plain": [
              "array([5., 6.])"
            ]
          },
          "metadata": {},
          "execution_count": 41
        }
      ]
    }
  ],
  "metadata": {
    "colab": {
      "collapsed_sections": [],
      "name": "ModuleC.ipynb",
      "provenance": [],
      "authorship_tag": "ABX9TyPDJCw7bTEV7+FOCb96MCO2",
      "include_colab_link": true
    },
    "kernelspec": {
      "display_name": "Python 3",
      "name": "python3"
    },
    "language_info": {
      "name": "python"
    }
  },
  "nbformat": 4,
  "nbformat_minor": 0
}