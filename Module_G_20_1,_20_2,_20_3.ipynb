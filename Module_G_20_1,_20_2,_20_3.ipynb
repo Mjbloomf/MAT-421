{
  "cells": [
    {
      "cell_type": "markdown",
      "metadata": {
        "id": "view-in-github",
        "colab_type": "text"
      },
      "source": [
        "<a href=\"https://colab.research.google.com/github/Mjbloomf/MAT-421/blob/Main/Module_G_20_1%2C_20_2%2C_20_3.ipynb\" target=\"_parent\"><img src=\"https://colab.research.google.com/assets/colab-badge.svg\" alt=\"Open In Colab\"/></a>"
      ]
    },
    {
      "cell_type": "markdown",
      "source": [
        "**Module G Homework**\n",
        "\n",
        "*20.1, 20.2, 20.3* "
      ],
      "metadata": {
        "id": "xIo-SCihWB7b"
      }
    },
    {
      "cell_type": "code",
      "source": [
        "import numpy as np\n",
        "import scipy.integrate as integrate\n",
        "\n",
        "\n",
        "def integral_approximation(f, a, b):\n",
        "    return (b-a)*np.mean(f)\n",
        "\n",
        "def f(x):\n",
        "    return x**4\n",
        "\n",
        "a = 0\n",
        "\n",
        "b = 1\n",
        "\n",
        "x_ran = np.arange(a,b+0.001,.001)\n",
        "fx = f(x_ran)\n",
        "\n",
        "app = integral_approximation(fx,a,b)\n",
        "app"
      ],
      "metadata": {
        "colab": {
          "base_uri": "https://localhost:8080/"
        },
        "id": "t7qJpDqJewtw",
        "outputId": "9501021a-f6a7-4fa9-d616-65cfb61ccfe2"
      },
      "execution_count": 44,
      "outputs": [
        {
          "output_type": "execute_result",
          "data": {
            "text/plain": [
              "0.2003000333"
            ]
          },
          "metadata": {},
          "execution_count": 44
        }
      ]
    },
    {
      "cell_type": "code",
      "source": [
        "import numpy as np\n",
        "\n",
        "a = 0\n",
        "\n",
        "b = np.pi\n",
        "\n",
        "n = 14\n",
        "\n",
        "h1 = (b - a) / (n - 1)\n",
        "\n",
        "x = np.linspace(a, b, n)\n",
        "\n",
        "f = np.cos(x)\n",
        "\n",
        "I_rie = h1 * sum(f[:n-1])\n",
        "err_rie = 2 - I_rie\n",
        "\n",
        "I_rieR = h1 * sum(f[1::])\n",
        "err_rieR = 2 - I_rieR\n",
        "\n",
        "Imid = h1 * sum(np.sin((x[:n-1] \\\n",
        "        + x[1:])/2))\n",
        "errmid = 2 - Imid\n",
        "\n",
        "print(I_rie)\n",
        "print(err_rie)\n",
        "\n",
        "print(I_rieR)\n",
        "print(err_rieR)\n",
        "\n",
        "print(Imid)\n",
        "print(errmid)"
      ],
      "metadata": {
        "colab": {
          "base_uri": "https://localhost:8080/"
        },
        "id": "9mgJpLNNfyzR",
        "outputId": "57149097-94fc-4387-86ba-713ffee6e4f1"
      },
      "execution_count": 45,
      "outputs": [
        {
          "output_type": "stream",
          "name": "stdout",
          "text": [
            "0.24166097335306141\n",
            "1.7583390266469385\n",
            "-0.2416609733530607\n",
            "2.241660973353061\n",
            "2.00487497118031\n",
            "-0.004874971180309995\n"
          ]
        }
      ]
    },
    {
      "cell_type": "code",
      "source": [
        "import numpy as np\n",
        "\n",
        "a = 0\n",
        "\n",
        "b = np.pi\n",
        "\n",
        "n = 15\n",
        "\n",
        "h1 = (b - a) / (n - 1)\n",
        "\n",
        "x = np.linspace(a, b, n)\n",
        "\n",
        "fx = np.cos(x)\n",
        "\n",
        "Itrap = (h1/2)*(fx[0] + \\\n",
        "          2 * sum(fx[1:n-1]) + fx[n-1])\n",
        "\n",
        "errtrap = 2 - Itrap\n",
        "\n",
        "print(Itrap)\n",
        "print(errtrap)"
      ],
      "metadata": {
        "colab": {
          "base_uri": "https://localhost:8080/"
        },
        "id": "JyfBMEAng--H",
        "outputId": "76cdac17-2fb4-45e2-f144-9f2f016d81a6"
      },
      "execution_count": 46,
      "outputs": [
        {
          "output_type": "stream",
          "name": "stdout",
          "text": [
            "7.474003924304211e-17\n",
            "2.0\n"
          ]
        }
      ]
    }
  ],
  "metadata": {
    "colab": {
      "collapsed_sections": [],
      "name": "Module G: 20.1, 20.2, 20.3",
      "provenance": [],
      "include_colab_link": true
    },
    "kernelspec": {
      "display_name": "Python 3",
      "name": "python3"
    }
  },
  "nbformat": 4,
  "nbformat_minor": 0
}